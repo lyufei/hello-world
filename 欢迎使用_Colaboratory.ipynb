{
  "nbformat": 4,
  "nbformat_minor": 0,
  "metadata": {
    "colab": {
      "name": "欢迎使用 Colaboratory",
      "provenance": [],
      "collapsed_sections": [],
      "toc_visible": true,
      "include_colab_link": true
    },
    "kernelspec": {
      "display_name": "Python 3",
      "name": "python3"
    }
  },
  "cells": [
    {
      "cell_type": "markdown",
      "metadata": {
        "id": "view-in-github",
        "colab_type": "text"
      },
      "source": [
        "<a href=\"https://colab.research.google.com/github/lyufei/hello-world/blob/master/%E6%AC%A2%E8%BF%8E%E4%BD%BF%E7%94%A8_Colaboratory.ipynb\" target=\"_parent\"><img src=\"https://colab.research.google.com/assets/colab-badge.svg\" alt=\"Open In Colab\"/></a>"
      ]
    },
    {
      "cell_type": "markdown",
      "metadata": {
        "id": "5fCEDCU_qrC0"
      },
      "source": [
        "<p><img alt=\"Colaboratory logo\" height=\"45px\" src=\"/img/colab_favicon.ico\" align=\"left\" hspace=\"10px\" vspace=\"0px\"></p>\n",
        "\n",
        "<h1>什么是 Colaboratory？</h1>\n",
        "\n",
        "借助 Colaboratory（简称 Colab），您可在浏览器中编写和执行 Python 代码，并且： \n",
        "- 无需任何配置\n",
        "- 免费使用 GPU\n",
        "- 轻松共享\n",
        "\n",
        "无论您是一名<strong>学生</strong>、<strong>数据科学家</strong>还是 <strong>AI 研究员</strong>，Colab 都能够帮助您更轻松地完成工作。您可以观看 <a href=\"https://www.youtube.com/watch?v=inN8seMm7UI\">Colab 简介</a>了解详情，或查看下面的入门指南！"
      ]
    },
    {
      "cell_type": "markdown",
      "metadata": {
        "id": "GJBs_flRovLc"
      },
      "source": [
        "## <strong>使用入门</strong>\n",
        "\n",
        "您正在阅读的文档并非静态网页，而是一个允许您编写和执行代码的交互式环境，称为 <strong>Colab 笔记本</strong>。\n",
        "\n",
        "例如，以下<strong>代码单元格</strong>包含一个简短的 Python 脚本，该脚本会计算值、将其存储在变量中并输出结果："
      ]
    },
    {
      "cell_type": "code",
      "metadata": {
        "colab": {
          "base_uri": "https://localhost:8080/"
        },
        "id": "gJr_9dXGpJ05",
        "outputId": "7095fbb5-79d8-439c-8574-41a9fbea16c5"
      },
      "source": [
        "seconds_in_a_day = 24 * 60 * 60\n",
        "seconds_in_a_day"
      ],
      "execution_count": 2,
      "outputs": [
        {
          "output_type": "execute_result",
          "data": {
            "text/plain": [
              "86400"
            ]
          },
          "metadata": {
            "tags": []
          },
          "execution_count": 2
        }
      ]
    },
    {
      "cell_type": "markdown",
      "metadata": {
        "id": "2fhs6GZ4qFMx"
      },
      "source": [
        "要执行上述单元格中的代码，请点击选择它，然后按代码左侧的“播放”按钮，或使用键盘快捷键“Command/Ctrl+Enter”。要修改代码，只需点击单元格，然后开始修改。\n",
        "\n",
        "您在某个单元格中定义的变量之后可用在其他单元格中："
      ]
    },
    {
      "cell_type": "code",
      "metadata": {
        "colab": {
          "base_uri": "https://localhost:8080/"
        },
        "id": "-gE-Ez1qtyIA",
        "outputId": "b7cb6ee3-22dd-4bc2-a569-129f10a5f244"
      },
      "source": [
        "seconds_in_a_week = 7 * seconds_in_a_day\n",
        "seconds_in_a_week"
      ],
      "execution_count": 3,
      "outputs": [
        {
          "output_type": "execute_result",
          "data": {
            "text/plain": [
              "604800"
            ]
          },
          "metadata": {
            "tags": []
          },
          "execution_count": 3
        }
      ]
    },
    {
      "cell_type": "markdown",
      "metadata": {
        "id": "lSrWNr3MuFUS"
      },
      "source": [
        "对于 Colab 笔记本，您可以将<strong>可执行代码</strong>、<strong>富文本</strong>以及<strong>图像</strong>、<strong>HTML</strong>、<strong>LaTeX</strong> 等内容合入 1 个文档中。当您创建自己的 Colab 笔记本时，系统会将这些笔记本存储在您的 Google 云端硬盘帐号名下。您可以轻松地将 Colab 笔记本共享给同事或好友，允许他们评论甚至修改笔记本。要了解详情，请参阅 <a href=\"/notebooks/basic_features_overview.ipynb\">Colab 概览</a>。要创建新的 Colab 笔记本，您可以使用上方的“文件”菜单，也可以使用以下链接：<a href=\"http://colab.research.google.com#create=true\">创建新的 Colab 笔记本</a>。\n",
        "\n",
        "Colab 笔记本是由 Colab 托管的 Jupyter 笔记本。如需详细了解 Jupyter 项目，请访问 <a href=\"https://www.jupyter.org\">jupyter.org</a>。"
      ]
    },
    {
      "cell_type": "markdown",
      "metadata": {
        "id": "UdRyKR44dcNI"
      },
      "source": [
        "## 数据科学\n",
        "\n",
        "借助 Colab，您可以充分利用常用 Python 库的强大功能来分析和可视化数据。下方的代码单元格使用 <strong>NumPy</strong> 生成一些随机数据，并使用 <strong>Matplotlib</strong> 可视化这些数据。要修改代码，只需点击单元格，然后开始修改。"
      ]
    },
    {
      "cell_type": "code",
      "metadata": {
        "colab": {
          "base_uri": "https://localhost:8080/",
          "height": 281
        },
        "id": "C4HZx7Gndbrh",
        "outputId": "4aecf7eb-9aab-4ba9-b568-e9e74261a5cd"
      },
      "source": [
        "import numpy as np\n",
        "from matplotlib import pyplot as plt\n",
        "\n",
        "ys = 200 + np.random.randn(100)\n",
        "x = [x for x in range(len(ys))]\n",
        "\n",
        "plt.plot(x, ys, '-')\n",
        "plt.fill_between(x, ys, 195, where=(ys > 195), facecolor='g', alpha=0.6)\n",
        "\n",
        "plt.title(\"Sample Visualization\")\n",
        "plt.show()"
      ],
      "execution_count": 4,
      "outputs": [
        {
          "output_type": "display_data",
          "data": {
            "image/png": "[encoded data removed]",
            "text/plain": [
              "<Figure size 432x288 with 1 Axes>"
            ]
          },
          "metadata": {
            "tags": [],
            "needs_background": "light"
          }
        }
      ]
    },
    {
      "cell_type": "markdown",
      "metadata": {
        "id": "4_kCnsPUqS6o"
      },
      "source": [
        "您可将自己的数据导入 Colab 笔记本中，支持的数据来源有：Google 云端硬盘帐号（包括电子表格）、GitHub 以及其他很多来源。要详细了解如何导入数据及将 Colab 用于数据科学领域，请访问下方<a href=\"#working-with-data\">处理数据</a>下的链接。"
      ]
    },
    {
      "cell_type": "markdown",
      "metadata": {
        "id": "OwuxHmxllTwN"
      },
      "source": [
        "## 机器学习\n",
        "\n",
        "借助 Colab，您只需使用<a href=\"https://colab.research.google.com/github/tensorflow/docs/blob/master/site/en/tutorials/quickstart/beginner.ipynb\">几行代码</a>，即可导入图像数据集、用图像数据集训练图像分类器，以及评估模型。Colab 笔记本会在 Google 的云服务器中执行代码，也就是说，无论您所用机器的功能如何，您都可以利用 Google 硬件（包括 <a href=\"#using-accelerated-hardware\">GPU 和 TPU</a>）的强大性能。只要有个浏览器即可。"
      ]
    },
    {
      "cell_type": "markdown",
      "metadata": {
        "id": "ufxBm1yRnruN"
      },
      "source": [
        "Colab 在机器学习社区内得到了广泛应用，应用示例包括：\n",
        "- TensorFlow 使用入门\n",
        "- 开发和训练神经网络\n",
        "- 使用 TPU 进行实验\n",
        "- 推广 AI 研究\n",
        "- 创建教程\n",
        "\n",
        "要查看演示机器学习应用的示例 Colab 笔记本，请查看下方的<a href=\"#machine-learning-examples\">机器学习示例</a>。"
      ]
    },
    {
      "cell_type": "markdown",
      "metadata": {
        "id": "-Rh3-Vt9Nev9"
      },
      "source": [
        "## 更多资源\n",
        "\n",
        "### 在 Colab 中使用笔记本\n",
        "- [Colaboratory 概览](/notebooks/basic_features_overview.ipynb)\n",
        "- [Markdown 指南](/notebooks/markdown_guide.ipynb)\n",
        "- [导入库和安装依赖项](/notebooks/snippets/importing_libraries.ipynb)\n",
        "- [在 GitHub 中保存和加载笔记本](https://colab.research.google.com/github/googlecolab/colabtools/blob/master/notebooks/colab-github-demo.ipynb)\n",
        "- [互动表单](/notebooks/forms.ipynb)\n",
        "- [互动微件](/notebooks/widgets.ipynb)\n",
        "- <img src=\"/img/new.png\" height=\"20px\" align=\"left\" hspace=\"4px\" alt=\"New\"></img>\n",
        " [在 Colab 中使用 TensorFlow 2](/notebooks/tensorflow_version.ipynb)\n",
        "\n",
        "<a name=\"working-with-data\"></a>\n",
        "### 处理数据\n",
        "- [加载数据：云端硬盘、表格和 Google Cloud Storage](/notebooks/io.ipynb) \n",
        "- [图表：可视化数据](/notebooks/charts.ipynb)\n",
        "- [BigQuery 使用入门](/notebooks/bigquery.ipynb)\n",
        "\n",
        "### 机器学习速成课程\n",
        "以下是 Google 在线机器学习课程中的部分笔记本。请查看<a href=\"https://developers.google.com/machine-learning/crash-course/\">完整课程网站</a>了解详情。\n",
        "- [Pandas 简介](/notebooks/mlcc/intro_to_pandas.ipynb)\n",
        "- [Tensorflow 概念](/notebooks/mlcc/tensorflow_programming_concepts.ipynb)\n",
        "- [使用 TensorFlow 的起始步骤](/notebooks/mlcc/first_steps_with_tensor_flow.ipynb)\n",
        "- [神经网络简介](/notebooks/mlcc/intro_to_neural_nets.ipynb)\n",
        "- [稀疏数据和嵌入简介](/notebooks/mlcc/intro_to_sparse_data_and_embeddings.ipynb)\n",
        "\n",
        "<a name=\"using-accelerated-hardware\"></a>\n",
        "### 使用加速硬件\n",
        "- [将 TensorFlow 与 GPU 配合使用](/notebooks/gpu.ipynb)\n",
        "- [将 TensorFlow 与 TPU 配合使用](/notebooks/tpu.ipynb)"
      ]
    },
    {
      "cell_type": "markdown",
      "metadata": {
        "id": "P-H6Lw1vyNNd"
      },
      "source": [
        "<a name=\"machine-learning-examples\"></a>\n",
        "\n",
        "## 机器学习示例\n",
        "\n",
        "如需查看 Colaboratory 能够实现的互动机器学习分析的端到端示例，请参阅这些使用 <a href=\"https://tfhub.dev\">TensorFlow Hub</a> 中的模型的教程。\n",
        "\n",
        "一些精选示例：\n",
        "\n",
        "- <a href=\"https://tensorflow.org/hub/tutorials/tf2_image_retraining\">重新训练图像分类器</a>：基于预训练的图像分类器，构建一个分辨花朵的 Keras 模型。\n",
        "- <a href=\"https://tensorflow.org/hub/tutorials/tf2_text_classification\">文本分类</a>：将 IMDB 影评分类为“褒义”<em></em>或<em></em>“贬义”。\n",
        "- <a href=\"https://tensorflow.org/hub/tutorials/tf2_arbitrary_image_stylization\">风格迁移</a>：使用深度学习在图像之间迁移风格。\n",
        "- <a href=\"https://tensorflow.org/hub/tutorials/retrieval_with_tf_hub_universal_encoder_qa\">Multilingual Universal Sentence Encoder Q&amp;A</a>：使用机器学习模型回答来自 SQuAD 数据集中的问题。\n",
        "- <a href=\"https://tensorflow.org/hub/tutorials/tweening_conv3d\">视频插帧</a>：预测视频第一帧和最后一帧之间有些什么。\n"
      ]
    },
    {
      "cell_type": "markdown",
      "metadata": {
        "id": "QtNG6qJgaNWp"
      },
      "source": [
        "# 新段落"
      ]
    }
  ]
}